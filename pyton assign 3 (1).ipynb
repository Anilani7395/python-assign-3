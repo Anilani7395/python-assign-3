{
 "cells": [
  {
   "cell_type": "code",
   "execution_count": 1,
   "id": "0b07727a",
   "metadata": {},
   "outputs": [
    {
     "name": "stdout",
     "output_type": "stream",
     "text": [
      "enter a number:26\n",
      "26 is a positive number\n"
     ]
    }
   ],
   "source": [
    "def checknumber(num):\n",
    "    if num>0:\n",
    "        print('{} is a positive number'.format(num))\n",
    "    elif num<0:\n",
    "        print('{} is a negative number'.format(num))\n",
    "    else:\n",
    "        print(\"number is zero\")\n",
    "            \n",
    "num=int(input(\"enter a number:\"))\n",
    "checknumber(num)"
   ]
  },
  {
   "cell_type": "code",
   "execution_count": null,
   "id": "90b56cc2",
   "metadata": {},
   "outputs": [],
   "source": [
    "def checknum(num):\n",
    "    if num%2==0:\n",
    "        print('{} is a even number'.format(num))\n",
    "    else:\n",
    "        print('{} is a odd number'.format(num))\n",
    "num=int(input(\"enter a number\"))\n",
    "checknumber(num)"
   ]
  },
  {
   "cell_type": "code",
   "execution_count": 4,
   "id": "33e76c26",
   "metadata": {},
   "outputs": [
    {
     "name": "stdout",
     "output_type": "stream",
     "text": [
      "enter year:1978\n",
      "1978 is not a leap year\n"
     ]
    }
   ],
   "source": [
    "def checkyear(year):\n",
    "    if (year%4 == 0 and year%100 != 0 or year%400 == 0):\n",
    "        print(f'{year}is a leap year')\n",
    "    else:\n",
    "        print(f'{year} is not a leap year')\n",
    "year=int(input(\"enter year:\"))\n",
    "checkyear(year)"
   ]
  },
  {
   "cell_type": "code",
   "execution_count": 5,
   "id": "6f0c6250",
   "metadata": {},
   "outputs": [
    {
     "name": "stdout",
     "output_type": "stream",
     "text": [
      "enter a number:30\n",
      "30is not a prime number\n"
     ]
    }
   ],
   "source": [
    "def isprime(num):\n",
    "    flag = False\n",
    "    for i in range(2,num):\n",
    "        if num%i ==0:\n",
    "            flag=True\n",
    "            break\n",
    "    if(not flag):\n",
    "        print(f'{num}is a prime number')\n",
    "    else:\n",
    "        print(f'{num}is not a prime number')\n",
    "        \n",
    "number=int(input(\"enter a number:\"))\n",
    "isprime(number)\n",
    "        "
   ]
  },
  {
   "cell_type": "code",
   "execution_count": null,
   "id": "5dc0ed93",
   "metadata": {},
   "outputs": [],
   "source": [
    "primenumberslist=[]\n",
    "\n",
    "def generateprimenumbers():\n",
    "    for x in range(1-1000):\n",
    "        flag=False\n",
    "        for y in range(2,x):\n",
    "            if(x%y==0):\n",
    "                flag=True\n",
    "                break\n",
    "        if(not flag):\n",
    "            primenumberslist.append(x)\n",
    "generateprimenumbers()\n",
    "print(primenumberslist)"
   ]
  }
 ],
 "metadata": {
  "kernelspec": {
   "display_name": "Python 3 (ipykernel)",
   "language": "python",
   "name": "python3"
  },
  "language_info": {
   "codemirror_mode": {
    "name": "ipython",
    "version": 3
   },
   "file_extension": ".py",
   "mimetype": "text/x-python",
   "name": "python",
   "nbconvert_exporter": "python",
   "pygments_lexer": "ipython3",
   "version": "3.9.12"
  }
 },
 "nbformat": 4,
 "nbformat_minor": 5
}
